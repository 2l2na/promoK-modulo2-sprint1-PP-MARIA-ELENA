CREATE SCHEMA evaluacion;

CREATE TABLE asignaturas (
	id_asignatura INT AUTO_INCREMENT NOT NULL,
    asignatura VARCHAR(50),
    PRIMARY KEY (id_asignatura)
    );
    
CREATE TABLE paises (
	ciudad VARCHAR(50) NOT NULL,
    pais VARCHAR(50) NOT NULL,
PRIMARY KEY (ciudad)
);
    
    
CREATE TABLE alumnas (
	id_alumna INT AUTO_INCREMENT NOT NULL,
    nombre_alumna VARCHAR(50) NOT NULL,
    apellido_alumna VARCHAR(50) NOT NULL,
    ciudad VARCHAR(50) NOT NULL,
PRIMARY KEY (id_alumna),
CONSTRAINT fk_ciudad__paises
		FOREIGN KEY (ciudad)
        REFERENCES paises (ciudad)
);

CREATE TABLE calificaciones (
	id_alumna INT ,
    id_asignatura INT,
	nota INT,
PRIMARY KEY (id_alumna, id_asignatura),
CONSTRAINT fk_id_alumna__alumnas
	FOREIGN KEY (id_alumna)
    REFERENCES alumnas (id_alumna),
CONSTRAINT fk_id_asignatura__asignaturas
	FOREIGN KEY (id_asignatura)
    REFERENCES asignaturas (id_asignatura)
);


